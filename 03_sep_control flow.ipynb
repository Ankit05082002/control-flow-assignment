{
 "cells": [
  {
   "cell_type": "code",
   "execution_count": null,
   "metadata": {},
   "outputs": [],
   "source": [
    "#CONTROL FLOW ASSISNGMENT"
   ]
  },
  {
   "cell_type": "code",
   "execution_count": 2,
   "metadata": {},
   "outputs": [
    {
     "name": "stdout",
     "output_type": "stream",
     "text": [
      "The number is positive\n"
     ]
    }
   ],
   "source": [
    "#Q1.\n",
    "a= int(input(\"enter number\"))\n",
    "if a>0:\n",
    "    print('The number is positive')\n",
    "else:\n",
    "    if a<0:\n",
    "        print('The numbr is negative')"
   ]
  },
  {
   "cell_type": "code",
   "execution_count": 1,
   "metadata": {},
   "outputs": [
    {
     "name": "stdout",
     "output_type": "stream",
     "text": [
      "You are not eligible for vote your age is: 17\n"
     ]
    }
   ],
   "source": [
    "#Q2.\n",
    "age=int(input(\"enter age\"))\n",
    "if age >=18:\n",
    "    print(f'You are eligible for vote your age is: {age}')\n",
    "else:\n",
    "    if age<18:\n",
    "        print(f'You are not eligible for vote your age is: {age}')"
   ]
  },
  {
   "cell_type": "code",
   "execution_count": 8,
   "metadata": {},
   "outputs": [
    {
     "name": "stdout",
     "output_type": "stream",
     "text": [
      "20\n"
     ]
    }
   ],
   "source": [
    "#Q3.\n",
    "num1=int(input())\n",
    "num2=int(input())\n",
    "if num1>num2:\n",
    "    number=num1\n",
    "else:\n",
    "     number=num2\n",
    "print(number)\n",
    "    \n"
   ]
  },
  {
   "cell_type": "code",
   "execution_count": 19,
   "metadata": {},
   "outputs": [
    {
     "name": "stdout",
     "output_type": "stream",
     "text": [
      "2036 is leap year\n"
     ]
    }
   ],
   "source": [
    "#Q4.\n",
    "year=int(input())\n",
    "if year%4==0 and year%100!=0 or year%400==0:\n",
    "    print(f'{year} is leap year')\n",
    "else:\n",
    "    print(f'{year} is not leap year')\n",
    "\n"
   ]
  },
  {
   "cell_type": "code",
   "execution_count": 14,
   "metadata": {},
   "outputs": [
    {
     "name": "stdout",
     "output_type": "stream",
     "text": [
      "The string have vowel items ['a', 'i']\n"
     ]
    }
   ],
   "source": [
    "#Q5.\n",
    "a=input(\"Enter string\")\n",
    "vowel_found=[]\n",
    "vowel=['a','e','i','o','u']\n",
    "is_constant=True\n",
    "for char in a:\n",
    "    if char.lower() in vowel:\n",
    "        vowel_found.append(char)\n",
    "        is_constant=False\n",
    "        \n",
    "if is_constant:\n",
    "    print(\"The string is constant\")\n",
    "else:\n",
    "    print(f\"The string have vowel items {vowel_found}\")\n",
    "        "
   ]
  },
  {
   "cell_type": "code",
   "execution_count": 44,
   "metadata": {},
   "outputs": [
    {
     "name": "stdout",
     "output_type": "stream",
     "text": [
      "2 :Enter num is even num\n"
     ]
    }
   ],
   "source": [
    "#Q6.\n",
    "w1=int(input())\n",
    "if w1%2==0:\n",
    "    print(f'{w1} :Enter num is even num')\n",
    "else:\n",
    "    if w1%2!=0:\n",
    "        print(f'{w1} :Enter num is odd num')"
   ]
  },
  {
   "cell_type": "code",
   "execution_count": 5,
   "metadata": {},
   "outputs": [
    {
     "name": "stdout",
     "output_type": "stream",
     "text": [
      "2\n"
     ]
    }
   ],
   "source": [
    "#Q7.\n",
    "aa=int(input())\n",
    "if aa <0:\n",
    "    print(-aa)\n",
    "else:\n",
    "    print(aa)"
   ]
  },
  {
   "cell_type": "code",
   "execution_count": 54,
   "metadata": {},
   "outputs": [
    {
     "name": "stdout",
     "output_type": "stream",
     "text": [
      "The largets number is 20\n"
     ]
    }
   ],
   "source": [
    "#Q8.\n",
    "num1=int(input())\n",
    "num2=int(input())\n",
    "num3=int(input())\n",
    "if num1>num2 and num1>num3 or num2>num1 and num2>num3:\n",
    "    number=num1\n",
    "    number=num2\n",
    "    print('The largets number is ',num1 or num2)\n",
    "else:\n",
    "    if num3>num1 and num3>num2:\n",
    "        number=num3\n",
    "        print('The largets number is',num3)\n"
   ]
  },
  {
   "cell_type": "code",
   "execution_count": 6,
   "metadata": {},
   "outputs": [
    {
     "name": "stdout",
     "output_type": "stream",
     "text": [
      "The string is palindrome\n"
     ]
    }
   ],
   "source": [
    "#Q9.\n",
    "def is_palinrome(user_input):\n",
    "    cleaned_string= user_input.replace(\" \",\"\").lower()\n",
    "    if cleaned_string==cleaned_string[::-1]:\n",
    "        return True\n",
    "    else:\n",
    "        return False\n",
    "    \n",
    "\n",
    "user_input=input()\n",
    "if is_palinrome:\n",
    "    print('The string is palindrome')\n",
    "else:\n",
    "    print('The string is not palindrome')"
   ]
  },
  {
   "cell_type": "code",
   "execution_count": 5,
   "metadata": {},
   "outputs": [
    {
     "name": "stdout",
     "output_type": "stream",
     "text": [
      "The student's grade is: A+\n"
     ]
    }
   ],
   "source": [
    "#Q10.\n",
    "exam_score = float(input(\"Enter the exam score: \"))\n",
    "grade = \"\"\n",
    "if 90 <= exam_score <= 100:\n",
    "    grade = \"A+\"\n",
    "elif 80 <= exam_score < 90:\n",
    "    grade = \"A\"\n",
    "elif 70 <= exam_score < 80:\n",
    "    grade = \"B\"\n",
    "elif 60 <= exam_score < 70:\n",
    "    grade = \"C\"\n",
    "elif 50 <= exam_score < 60:\n",
    "    grade = \"D\"\n",
    "elif 0 <= exam_score < 50:\n",
    "    grade = \"F\"\n",
    "else:\n",
    "    print(\"Invalid score. Please enter a score between 0 and 100.\")\n",
    "    \n",
    "print(f\"The student's grade is: {grade}\")\n",
    "\n",
    "\n"
   ]
  },
  {
   "cell_type": "code",
   "execution_count": null,
   "metadata": {},
   "outputs": [],
   "source": [
    "#Nested If-Else Statements:"
   ]
  },
  {
   "cell_type": "code",
   "execution_count": 6,
   "metadata": {},
   "outputs": [
    {
     "name": "stdout",
     "output_type": "stream",
     "text": [
      "The largest num 13\n"
     ]
    }
   ],
   "source": [
    "#Q11.\n",
    "num1=int(input())\n",
    "num2=int(input())\n",
    "num3=int(input())\n",
    "if num1>=num2:\n",
    "    if num1>=num3:\n",
    "        largrst=num1\n",
    "    else:\n",
    "        largrst=num3      \n",
    "else:\n",
    "    if num2>=num3:\n",
    "        largrst=num2\n",
    "    else:\n",
    "        largrst=num3\n",
    "\n",
    "print(f'The largest num {largrst}') \n"
   ]
  },
  {
   "cell_type": "code",
   "execution_count": 9,
   "metadata": {},
   "outputs": [
    {
     "name": "stdout",
     "output_type": "stream",
     "text": [
      "The triangle is equilateral\n"
     ]
    }
   ],
   "source": [
    "#Q12.\n",
    "side1=int(input())\n",
    "side2=int(input())\n",
    "side3=int(input())\n",
    "if side1+side2>side3 and side1+side3>side2 and side2+side3>side2:\n",
    "    if side1==side2 and side2==side3:\n",
    "        triangle_type= \"equilateral\"\n",
    "    elif side1==side2 or side1==side3 or side3==side2:\n",
    "          triangle_type=\"isosceles\"\n",
    "    else:\n",
    "        triangle_type= 'invalid triangle'\n",
    "\n",
    "    print(f\"The triangle is {triangle_type}\")\n",
    "else:\n",
    "    print('The entered side lengths do not form a valid triangle.')"
   ]
  },
  {
   "cell_type": "code",
   "execution_count": 4,
   "metadata": {},
   "outputs": [
    {
     "name": "stdout",
     "output_type": "stream",
     "text": [
      "2024 is a leap year but not a century year.\n"
     ]
    }
   ],
   "source": [
    "#Q13.\n",
    "# Input the year\n",
    "year = int(input(\"Enter a year: \"))\n",
    "\n",
    "# Check if it's a leap year\n",
    "if year % 4 == 0:\n",
    "    # If it's divisible by 4, check for century years\n",
    "    if year % 100 == 0:\n",
    "        # If it's divisible by 100, check for leap century years\n",
    "        if year % 400 == 0:\n",
    "            print(f\"{year} is a leap year and a century year.\")\n",
    "        else:\n",
    "            print(f\"{year} is not a leap year but a century year.\")\n",
    "    else:\n",
    "        print(f\"{year} is a leap year but not a century year.\")\n",
    "else:\n",
    "    print(f\"{year} is not a leap year.\")\n"
   ]
  },
  {
   "cell_type": "code",
   "execution_count": 56,
   "metadata": {},
   "outputs": [
    {
     "name": "stdout",
     "output_type": "stream",
     "text": [
      "number is negative\n"
     ]
    }
   ],
   "source": [
    "#Q14.\n",
    "num=int(input())\n",
    "if num<0:\n",
    "    if num==0:\n",
    "        if num>0:\n",
    "            print(\"number is positive\")\n",
    "        else:\n",
    "            print(\"number is zero\")\n",
    "    else:\n",
    "        print(\"number is negative\")\n",
    "else:\n",
    "    print('number is invalid')"
   ]
  },
  {
   "cell_type": "code",
   "execution_count": 63,
   "metadata": {},
   "outputs": [
    {
     "name": "stdout",
     "output_type": "stream",
     "text": [
      "person is under age\n"
     ]
    }
   ],
   "source": [
    "#Q15.\n",
    "person_age  = int(input())\n",
    "if person_age>=13:\n",
    "    if person_age<=19:\n",
    "        print('person is under age')\n",
    "    else:\n",
    "        print('person is under age')\n",
    "else:\n",
    "    print('invalid age')\n",
    "            "
   ]
  },
  {
   "cell_type": "code",
   "execution_count": 11,
   "metadata": {},
   "outputs": [
    {
     "name": "stdout",
     "output_type": "stream",
     "text": [
      "The angle is acute.\n"
     ]
    }
   ],
   "source": [
    "#Q16.\n",
    "# Input the angle measure\n",
    "angle = float(input(\"Enter the angle measure in degrees: \"))\n",
    "\n",
    "# Check the type of angle\n",
    "if angle < 0 or angle > 360:\n",
    "    print(\"Invalid angle measure. Please enter an angle between 0 and 360 degrees.\")\n",
    "else:\n",
    "    if angle < 90:\n",
    "        print(\"The angle is acute.\")\n",
    "    elif angle == 90:\n",
    "        print(\"The angle is a right angle.\")\n",
    "    else:\n",
    "        print(\"The angle is obtuse.\")\n"
   ]
  },
  {
   "cell_type": "code",
   "execution_count": 7,
   "metadata": {},
   "outputs": [
    {
     "name": "stdout",
     "output_type": "stream",
     "text": [
      "Root 1: -1.0 + 1.4142135623730951i\n",
      "Root 2: -1.0 - 1.4142135623730951i\n"
     ]
    }
   ],
   "source": [
    "#Q17.\n",
    "a = float(input(\"Enter the coefficient a: \"))\n",
    "b = float(input(\"Enter the coefficient b: \"))\n",
    "c = float(input(\"Enter the coefficient c: \"))\n",
    "discriminant = b**2 - 4*a*c\n",
    "if discriminant > 0:\n",
    "    root1 = (-b + (discriminant**0.5)) / (2*a)\n",
    "    root2 = (-b - (discriminant**0.5)) / (2*a)\n",
    "    print(f\"Root 1: {root1}\")\n",
    "    print(f\"Root 2: {root2}\")\n",
    "elif discriminant == 0:\n",
    "    root = -b / (2*a)\n",
    "    print(f\"Root: {root}\")\n",
    "else:\n",
    "    real_part = -b / (2*a)\n",
    "    imaginary_part = (abs(discriminant)**0.5) / (2*a)\n",
    "    print(f\"Root 1: {real_part} + {imaginary_part}i\")\n",
    "    print(f\"Root 2: {real_part} - {imaginary_part}i\")\n"
   ]
  },
  {
   "cell_type": "code",
   "execution_count": 12,
   "metadata": {},
   "outputs": [
    {
     "name": "stdout",
     "output_type": "stream",
     "text": [
      "Today is sunday\n"
     ]
    }
   ],
   "source": [
    "#Q18.\n",
    "user_input=int(input(\"enter number of day\"))\n",
    "days_count=[1,2,3,4,5,6,7]\n",
    "if user_input==1:\n",
    "    day='monday'\n",
    "    print(f'today is {day}')\n",
    "elif user_input==2:\n",
    "    day='Tuesday'\n",
    "    print(f\"Today is {day}\")\n",
    "elif user_input==3:\n",
    "    day='wednesday'\n",
    "    print(f'today is {day}')\n",
    "elif user_input==4:\n",
    "    day='thrusday'\n",
    "    print(f\"Today is {day}\")\n",
    "elif user_input==5:\n",
    "    day='friday'\n",
    "    print(f'Today is {day}')\n",
    "elif user_input ==6:\n",
    "    day='saturday'\n",
    "    print(f'Today is {day}')\n",
    "elif user_input==7:\n",
    "    day='sunday'\n",
    "    print(f'Today is {day}')\n",
    "else:\n",
    "    print('invalid choice') "
   ]
  },
  {
   "cell_type": "code",
   "execution_count": 4,
   "metadata": {},
   "outputs": [
    {
     "name": "stdout",
     "output_type": "stream",
     "text": [
      "It's a leap year\n"
     ]
    }
   ],
   "source": [
    "#Q19.\n",
    "year = int(input(\"Enter a year: \"))\n",
    "\n",
    "if year % 4 == 0:\n",
    "    if year % 400 == 0:\n",
    "        if year % 100 == 0:\n",
    "            print(\"It's not a leap year\")\n",
    "        else:\n",
    "            print(\"It's a leap year\")\n",
    "    else:\n",
    "        print(\"It's a leap year\")\n",
    "else:\n",
    "    print(\"Invalid year\")\n"
   ]
  },
  {
   "cell_type": "code",
   "execution_count": 13,
   "metadata": {},
   "outputs": [
    {
     "name": "stdout",
     "output_type": "stream",
     "text": [
      "2  is a prime number.\n"
     ]
    }
   ],
   "source": [
    "#Q20.\n",
    "num=int(input('enter number'))\n",
    "if num<2:\n",
    "    is_prime=False\n",
    "else:\n",
    "    is_prime=True\n",
    "    for i in range(2,int(num**0.5)+1):\n",
    "        if num%i ==0:\n",
    "            is_prime=False\n",
    "            break\n",
    "\n",
    "if is_prime:\n",
    "    print(f'{num}  is a prime number.')\n",
    "else:\n",
    "    print(f\"{num} is not a prime number.\")"
   ]
  },
  {
   "cell_type": "code",
   "execution_count": 18,
   "metadata": {},
   "outputs": [
    {
     "name": "stdout",
     "output_type": "stream",
     "text": [
      "The student's grade is: A+\n"
     ]
    }
   ],
   "source": [
    "#Q21.\n",
    "exam_score = float(input(\"Enter the exam score: \"))\n",
    "grade = \"\"\n",
    "if 90 <= exam_score <= 100:\n",
    "    grade = \"A+\"\n",
    "elif 80 <= exam_score < 90:\n",
    "    grade = \"A\"\n",
    "elif 70 <= exam_score < 80:\n",
    "    grade = \"B\"\n",
    "elif 60 <= exam_score < 70:\n",
    "    grade = \"C\"\n",
    "elif 50 <= exam_score < 60:\n",
    "    grade = \"D\"\n",
    "elif 0 <= exam_score < 50:\n",
    "    grade = \"F\"\n",
    "else:\n",
    "    print(\"Invalid score. Please enter a score between 0 and 100.\")\n",
    "    \n",
    "print(f\"The student's grade is: {grade}\")\n"
   ]
  },
  {
   "cell_type": "code",
   "execution_count": 22,
   "metadata": {},
   "outputs": [
    {
     "name": "stdout",
     "output_type": "stream",
     "text": [
      "The triangle is an equilateral triangle.\n"
     ]
    }
   ],
   "source": [
    "#Q22.\n",
    "angle1 = float(input(\"Enter the first angle in degrees: \"))\n",
    "angle2 = float(input(\"Enter the second angle in degrees: \"))\n",
    "angle3 = float(input(\"Enter the third angle in degrees: \"))\n",
    "angle_sum = angle1 + angle2 + angle3\n",
    "\n",
    "\n",
    "if angle_sum != 180:\n",
    "    print(\"These angles cannot form a triangle.\")\n",
    "elif angle1 == angle2 == angle3 == 60:\n",
    "    print(\"The triangle is an equilateral triangle.\")\n",
    "elif angle1 == angle2 or angle1 == angle3 or angle2 == angle3:\n",
    "    print(\"The triangle is an isosceles triangle.\")\n",
    "else:\n",
    "    print(\"The triangle is a scalene triangle.\")\n"
   ]
  },
  {
   "cell_type": "code",
   "execution_count": 23,
   "metadata": {},
   "outputs": [
    {
     "name": "stdout",
     "output_type": "stream",
     "text": [
      "you are underweight\n"
     ]
    }
   ],
   "source": [
    "#Q23.\n",
    "height=float(input())\n",
    "weight=float(input())\n",
    "bmi=weight/(height**2)\n",
    "if bmi<18.5:\n",
    "    category='underweight'\n",
    "    print(f'you are {category}')\n",
    "elif 18.5<=bmi<24.9:\n",
    "    category='normal'\n",
    "    print(f'you are {category}')\n",
    "elif 24.9<=bmi<29.9:\n",
    "    category='overweight'\n",
    "    print(f'you are {category}')\n",
    "else:\n",
    "    print('obesty')\n",
    "    \n"
   ]
  },
  {
   "cell_type": "code",
   "execution_count": 1,
   "metadata": {},
   "outputs": [
    {
     "name": "stdout",
     "output_type": "stream",
     "text": [
      "the given num is positive\n"
     ]
    }
   ],
   "source": [
    "#Q24.\n",
    "num22=int(input())\n",
    "if num22<0:\n",
    "    print('the given num is negative')\n",
    "elif num22==0:\n",
    "     print('the given num is zero')\n",
    "elif num22>0:\n",
    "    print('the given num is positive')\n",
    "else:\n",
    "    print('invalid number')\n"
   ]
  },
  {
   "cell_type": "code",
   "execution_count": 6,
   "metadata": {},
   "outputs": [
    {
     "name": "stdout",
     "output_type": "stream",
     "text": [
      "The char is lower\n"
     ]
    }
   ],
   "source": [
    "#Q25.\n",
    "character=input()\n",
    "if character.isupper():\n",
    "    print(\"THe chara is upper\")\n",
    "elif character.islower():\n",
    "    print(\"The char is lower\")\n",
    "else:\n",
    "    print(\"The character is a special character or a digit\")"
   ]
  },
  {
   "cell_type": "code",
   "execution_count": 13,
   "metadata": {},
   "outputs": [
    {
     "name": "stdout",
     "output_type": "stream",
     "text": [
      "The puchase amount:1200.00\n",
      "Discount Rate: 15.0%\n",
      "Discounted price: 1020.00\n"
     ]
    }
   ],
   "source": [
    "#Q26.\n",
    "purchase_amount=int(input(\"enter price\"))\n",
    "discount_rate=0\n",
    "if purchase_amount>=1000:\n",
    "    discount_rate=0.15\n",
    "elif purchase_amount>=500:\n",
    "    discount_rate=0.1\n",
    "elif purchase_amount>=200:\n",
    "    discount_rate=0.05\n",
    "\n",
    "discounted_price=purchase_amount-(purchase_amount*discount_rate)\n",
    "print(f\"The puchase amount:{purchase_amount:.2f}\")\n",
    "print(f\"Discount Rate: {discount_rate*100}%\")\n",
    "print(f\"Discounted price: {discounted_price:.2f}\")"
   ]
  },
  {
   "cell_type": "code",
   "execution_count": 18,
   "metadata": {},
   "outputs": [
    {
     "name": "stdout",
     "output_type": "stream",
     "text": [
      "Electricity Consumption: 500.0 kWh\n",
      "Total Bill Amount: $340.00\n"
     ]
    }
   ],
   "source": [
    "#Q27.\n",
    "consumption = float(input(\"Enter the electricity consumption in kWh: \"))\n",
    "slab_1_limit = 100  # kWh\n",
    "slab_2_limit = 200  # kWh\n",
    "slab_3_limit = 300  # kWh\n",
    "rate_slab_1 = 0.5  # $ per kWh for slab 1\n",
    "rate_slab_2 = 0.6  # $ per kWh for slab 2\n",
    "rate_slab_3 = 0.7  # $ per kWh for slab 3\n",
    "rate_slab_4 = 0.8  # $ per kWh for slab 4\n",
    "\n",
    "total_bill = 0.0\n",
    "if consumption <= slab_1_limit:\n",
    "    total_bill = consumption * rate_slab_1\n",
    "elif consumption <= slab_2_limit:\n",
    "    total_bill = (slab_1_limit * rate_slab_1) + ((consumption - slab_1_limit) * rate_slab_2)\n",
    "elif consumption <= slab_3_limit:\n",
    "    total_bill = (slab_1_limit * rate_slab_1) + ((slab_2_limit - slab_1_limit) * rate_slab_2) + ((consumption - slab_2_limit) * rate_slab_3)\n",
    "else:\n",
    "    total_bill = (slab_1_limit * rate_slab_1) + ((slab_2_limit - slab_1_limit) * rate_slab_2) + ((slab_3_limit - slab_2_limit) * rate_slab_3) + ((consumption - slab_3_limit) * rate_slab_4)\n",
    "\n",
    "print(f\"Electricity Consumption: {consumption} kWh\")\n",
    "print(f\"Total Bill Amount: ${total_bill:.2f}\")\n"
   ]
  },
  {
   "cell_type": "code",
   "execution_count": 5,
   "metadata": {},
   "outputs": [
    {
     "name": "stdout",
     "output_type": "stream",
     "text": [
      "its a aquare\n"
     ]
    }
   ],
   "source": [
    "#Q28.\n",
    "angle1=int(input())\n",
    "angle2=int(input())\n",
    "angle3=int(input())\n",
    "angle4=int(input())\n",
    "side1=int(input())\n",
    "side2=int(input())\n",
    "side3=int(input())\n",
    "side4=int(input())\n",
    "if angle1+angle2+angle3+angle4==360:\n",
    "    if side1==side2 and side2==side3 and side3==side4:\n",
    "        print('its a aquare')\n",
    "    elif side1==side3 and side2==side4:\n",
    "        print('its a square')\n",
    "    elif side1==side2==side3 or side2==side3==side4 or side3==side4==side1:\n",
    "        print('its a trapezoid')\n",
    "    else:\n",
    "        print('its is quadrilateral')\n",
    "else:\n",
    "    print('invalid input')\n"
   ]
  },
  {
   "cell_type": "code",
   "execution_count": 6,
   "metadata": {},
   "outputs": [
    {
     "name": "stdout",
     "output_type": "stream",
     "text": [
      "this month season is summer\n"
     ]
    }
   ],
   "source": [
    "#Q29.\n",
    "enter_month=input()\n",
    "month1='jan','feb'\n",
    "month2='april','may'\n",
    "season1='summer'\n",
    "season2='winter'\n",
    "if enter_month in month1:\n",
    "    season=season1\n",
    "    print(f'this month season is {season}')\n",
    "elif enter_month in month2:\n",
    "    season=season2\n",
    "    print(f'this month season is {season}')\n",
    "else:\n",
    "    print('invalid month')"
   ]
  },
  {
   "cell_type": "code",
   "execution_count": 1,
   "metadata": {},
   "outputs": [
    {
     "name": "stdout",
     "output_type": "stream",
     "text": [
      "This month has 31 days\n"
     ]
    }
   ],
   "source": [
    "#Q30.\n",
    "year=int(input())\n",
    "month=int(input())\n",
    "is_leap_year=(year%4==0 and year%100!=0)\n",
    "if month==2:\n",
    "    if is_leap_year:\n",
    "        print(\"It is a leap year and feburay has 29 days\")\n",
    "    else:\n",
    "        print(\"It is common year and feburary has 28 days\")\n",
    "elif month in (4,6,9,11):\n",
    "    print(\"This month has 30 days\")\n",
    "elif 1<= month <=12:\n",
    "    print(\"This month has 31 days\")\n",
    "else:\n",
    "    print(\"inva;od input please enter omnth from 1 to 12\")"
   ]
  },
  {
   "cell_type": "code",
   "execution_count": null,
   "metadata": {},
   "outputs": [],
   "source": [
    "#Basic Level:\n"
   ]
  },
  {
   "cell_type": "code",
   "execution_count": 6,
   "metadata": {},
   "outputs": [
    {
     "name": "stdout",
     "output_type": "stream",
     "text": [
      "number is negative\n"
     ]
    }
   ],
   "source": [
    "#Q1.\n",
    "num=int(input())\n",
    "if num<0:\n",
    "    if num==0:\n",
    "        if num>0:\n",
    "            print(\"number is positive\")\n",
    "        else:\n",
    "            print(\"number is zero\")\n",
    "    else:\n",
    "        print(\"number is negative\")\n",
    "else:\n",
    "    print('number is invalid')"
   ]
  },
  {
   "cell_type": "code",
   "execution_count": 8,
   "metadata": {},
   "outputs": [
    {
     "name": "stdout",
     "output_type": "stream",
     "text": [
      "You are eligible for vote your age is: 21\n"
     ]
    }
   ],
   "source": [
    "#Q 2.\n",
    "age=int(input(\"enter age\"))\n",
    "if age >=18:\n",
    "    print(f'You are eligible for vote your age is: {age}')\n",
    "else:\n",
    "    if age<18:\n",
    "        print(f'You are not eligible for vote your age is: {age}')"
   ]
  },
  {
   "cell_type": "code",
   "execution_count": 11,
   "metadata": {},
   "outputs": [
    {
     "name": "stdout",
     "output_type": "stream",
     "text": [
      "the maximum of two given number is 30\n"
     ]
    }
   ],
   "source": [
    "#Q.3\n",
    "num1=int(input())\n",
    "num2=int(input())\n",
    "if num1>num2:\n",
    "    number=num1\n",
    "else:\n",
    "     number=num2\n",
    "print(f'the maximum of two given number is {number}')\n",
    "\n"
   ]
  },
  {
   "cell_type": "code",
   "execution_count": 20,
   "metadata": {},
   "outputs": [
    {
     "name": "stdout",
     "output_type": "stream",
     "text": [
      "The student's grade is: A\n"
     ]
    }
   ],
   "source": [
    "#Q.4\n",
    "exam_score = float(input(\"Enter the exam score: \"))\n",
    "grade = \"\"\n",
    "if 90 <= exam_score <= 100:\n",
    "    grade = \"A+\"\n",
    "elif 80 <= exam_score < 90:\n",
    "    grade = \"A\"\n",
    "elif 70 <= exam_score < 80:\n",
    "    grade = \"B\"\n",
    "elif 60 <= exam_score < 70:\n",
    "    grade = \"C\"\n",
    "elif 50 <= exam_score < 60:\n",
    "    grade = \"D\"\n",
    "elif 0 <= exam_score < 50:\n",
    "    grade = \"F\"\n",
    "else:\n",
    "    print(\"Invalid score. Please enter a score between 0 and 100.\")\n",
    "    \n",
    "print(f\"The student's grade is: {grade}\")\n",
    "\n"
   ]
  },
  {
   "cell_type": "code",
   "execution_count": 24,
   "metadata": {},
   "outputs": [
    {
     "name": "stdout",
     "output_type": "stream",
     "text": [
      "2024 is leap year\n"
     ]
    }
   ],
   "source": [
    "#Q.5\n",
    "year=int(input())\n",
    "if year%4==0 and year%100!=0 or year%400==0:\n",
    "    print(f'{year} is leap year')\n",
    "else:\n",
    "    print(f'{year} is not leap year')\n",
    "\n"
   ]
  },
  {
   "cell_type": "code",
   "execution_count": 26,
   "metadata": {},
   "outputs": [
    {
     "name": "stdout",
     "output_type": "stream",
     "text": [
      "The triangle is isosceles\n"
     ]
    }
   ],
   "source": [
    "#Q.6\n",
    "side1=int(input())\n",
    "side2=int(input())\n",
    "side3=int(input())\n",
    "if side1+side2>side3 and side1+side3>side2 and side2+side3>side2:\n",
    "    if side1==side2 and side2==side3:\n",
    "        triangle_type= \"equilateral\"\n",
    "    elif side1==side2 or side1==side3 or side3==side2:\n",
    "          triangle_type=\"isosceles\"\n",
    "    else:\n",
    "        triangle_type= 'invalid triangle'\n",
    "\n",
    "    print(f\"The triangle is {triangle_type}\")\n",
    "else:\n",
    "    print('The entered side lengths do not form a valid triangle.')"
   ]
  },
  {
   "cell_type": "code",
   "execution_count": 27,
   "metadata": {},
   "outputs": [
    {
     "name": "stdout",
     "output_type": "stream",
     "text": [
      "The largets number is 20\n"
     ]
    }
   ],
   "source": [
    "#Q.7\n",
    "num1=int(input())\n",
    "num2=int(input())\n",
    "num3=int(input())\n",
    "if num1>num2 and num1>num3 or num2>num1 and num2>num3:\n",
    "    number=num1\n",
    "    number=num2\n",
    "    print('The largets number is ',num1 or num2)\n",
    "else:\n",
    "    if num3>num1 and num3>num2:\n",
    "        number=num3\n",
    "        print('The largets number is',num3)\n",
    "\n"
   ]
  },
  {
   "cell_type": "code",
   "execution_count": 3,
   "metadata": {},
   "outputs": [
    {
     "name": "stdout",
     "output_type": "stream",
     "text": [
      "The char have vowel: ['a', 'i']\n"
     ]
    }
   ],
   "source": [
    "#Q.8\n",
    "enter_string=input()\n",
    "vowel=(\"a\",\"e\",\"i\",\"o\",\"u\")\n",
    "vowel_found=[]\n",
    "is_constant=True\n",
    "for char in enter_string:\n",
    "    if char in vowel:\n",
    "        vowel_found.append(char)\n",
    "        is_constant=False\n",
    "        \n",
    "if is_constant:\n",
    "    print(f'The char is constant')\n",
    "else:\n",
    "    print(f\"The char have vowel: {vowel_found}\")"
   ]
  },
  {
   "cell_type": "code",
   "execution_count": 4,
   "metadata": {},
   "outputs": [
    {
     "name": "stdout",
     "output_type": "stream",
     "text": [
      "enter price: 1000.00\n",
      "Discounted rate: 15.0%\n",
      "Discounted price:850.00\n"
     ]
    }
   ],
   "source": [
    "#Q9.\n",
    "enter_price=int(input())\n",
    "discount_rate=0\n",
    "if enter_price<=1000:\n",
    "    discount_rate=0.15\n",
    "elif enter_price<=500:\n",
    "    discount_rate=0.10\n",
    "elif enter_price<=200:\n",
    "    discount_rate=0.5\n",
    "\n",
    "discounted_price=enter_price-(enter_price*discount_rate)\n",
    "\n",
    "print(f\"enter price: {enter_price:.2f}\")\n",
    "print(f\"Discounted rate: {discount_rate*100}%\")\n",
    "print(f\"Discounted price:{discounted_price:.2f}\")"
   ]
  },
  {
   "cell_type": "code",
   "execution_count": 32,
   "metadata": {},
   "outputs": [
    {
     "name": "stdout",
     "output_type": "stream",
     "text": [
      "THe enter num : 3 is odd num \n"
     ]
    }
   ],
   "source": [
    "#Q.10\n",
    "enter_num=int(input())\n",
    "if enter_num % 2==0:\n",
    "    even_num=enter_num\n",
    "    print(f'THe enter num :{even_num} is even num ')\n",
    "else:\n",
    "    if enter_num%2!=0:\n",
    "        odd_num=enter_num\n",
    "        print(f\"THe enter num : {odd_num} is odd num \")"
   ]
  },
  {
   "cell_type": "code",
   "execution_count": 1,
   "metadata": {},
   "outputs": [
    {
     "name": "stdout",
     "output_type": "stream",
     "text": [
      "Complex roots: (-0.5+0.8660254037844386j) and (-0.5-0.8660254037844386j)\n"
     ]
    }
   ],
   "source": [
    "#Q.11\n",
    "import math\n",
    "a = float(input(\"Enter coefficient a: \"))\n",
    "b = float(input(\"Enter coefficient b: \"))\n",
    "c = float(input(\"Enter coefficient c: \"))\n",
    "discriminant = b**2 - 4*a*c\n",
    "\n",
    "if discriminant > 0:\n",
    "    root1 = (-b + math.sqrt(discriminant)) / (2*a)\n",
    "    root2 = (-b - math.sqrt(discriminant)) / (2*a)\n",
    "    print(f\"Two real roots: {root1} and {root2}\")\n",
    "elif discriminant == 0:\n",
    "    root1 = -b / (2*a)\n",
    "    print(f\"One real root: {root1}\")\n",
    "else:\n",
    "    real_part = -b / (2*a)\n",
    "    imaginary_part = math.sqrt(-discriminant) / (2*a)\n",
    "    root1 = complex(real_part, imaginary_part)\n",
    "    root2 = complex(real_part, -imaginary_part)\n",
    "    print(f\"Complex roots: {root1} and {root2}\")"
   ]
  },
  {
   "cell_type": "code",
   "execution_count": 6,
   "metadata": {},
   "outputs": [
    {
     "name": "stdout",
     "output_type": "stream",
     "text": [
      "Today is monday\n"
     ]
    }
   ],
   "source": [
    "#Q.12\n",
    "week_day=int(input())\n",
    "if week_day==1:\n",
    "    day='monday'\n",
    "elif week_day==2:\n",
    "    day='tuesday'\n",
    "elif week_day==3:\n",
    "    day='wednesday'\n",
    "elif week_day==4:\n",
    "    day='thrusday'\n",
    "elif week_day==5:\n",
    "    day='friday'\n",
    "elif week_day==6:\n",
    "    day='saturady'\n",
    "elif week_day==7:\n",
    "    day='sunday'\n",
    "else:\n",
    "    week_day==()\n",
    "    day='invalid day please enter num b/w 1 to 7'\n",
    "\n",
    "print(f'Today is {day}')\n",
    "\n",
    "\n"
   ]
  },
  {
   "cell_type": "code",
   "execution_count": 6,
   "metadata": {},
   "outputs": [
    {
     "name": "stdout",
     "output_type": "stream",
     "text": [
      "factorial of 10 is : 3628800\n"
     ]
    }
   ],
   "source": [
    "#Q13.\n",
    "def factorial(n):\n",
    "    if n==0:\n",
    "        return 1\n",
    "    else:\n",
    "        return n*factorial(n-1)\n",
    "num = int(input())\n",
    "if num<0:\n",
    "    print(f\"factorial is not defined for negative number\")\n",
    "else:\n",
    "    result1=factorial(num)\n",
    "    print(f\"factorial of {num} is : {result1}\")"
   ]
  },
  {
   "cell_type": "code",
   "execution_count": 1,
   "metadata": {},
   "outputs": [
    {
     "name": "stdout",
     "output_type": "stream",
     "text": [
      "The largest num 10\n"
     ]
    }
   ],
   "source": [
    "#Q.14\n",
    "num1=int(input())\n",
    "num2=int(input())\n",
    "num3=int(input())\n",
    "if num1>=num2:\n",
    "    if num1>=num3:\n",
    "        largrst=num1\n",
    "    else:\n",
    "        largrst=num3      \n",
    "else:\n",
    "    if num2>=num3:\n",
    "        largrst=num2\n",
    "    else:\n",
    "        largrst=num3\n",
    "\n",
    "print(f'The largest num {largrst}') \n"
   ]
  },
  {
   "cell_type": "code",
   "execution_count": 3,
   "metadata": {},
   "outputs": [
    {
     "name": "stdout",
     "output_type": "stream",
     "text": [
      "**** ATM MENU ****\n",
      "1. check balance\n",
      "2.deposit\n",
      "3.withdraw\n",
      "4.Quit\n",
      "your withdraw amount 300.Remaning Balance is 700\n",
      "Thank you for using the ATM. Goodbye!\n"
     ]
    }
   ],
   "source": [
    "#Q.15\n",
    "acc_balance=1000\n",
    "print(\"**** ATM MENU ****\")\n",
    "print(\"1. check balance\")\n",
    "print(\"2.deposit\")\n",
    "print(\"3.withdraw\")\n",
    "print('4.Quit')\n",
    "while True:\n",
    "    choice=int(input(\"enter choice 1,2,3,4\"))\n",
    "    if choice==1:\n",
    "        print(f\"Account Balance {acc_balance}\")\n",
    "    elif choice==2:\n",
    "        deposit=int(input())\n",
    "        acc_balance+=deposit\n",
    "        print(f\"your deposited amount is {deposit}.your new balance is {acc_balance}\")\n",
    "    elif choice==3:\n",
    "        withdraw=int(input())\n",
    "        if withdraw>acc_balance:\n",
    "            print(\"Insufficient funds. Withdrawal failed\")\n",
    "        else:\n",
    "            acc_balance-=withdraw\n",
    "            print(f\"your withdraw amount {withdraw}.Remaning Balance is {acc_balance}\")\n",
    "    elif choice ==4:\n",
    "        print(\"Thank you for using the ATM. Goodbye!\")\n",
    "        break\n",
    "    else:\n",
    "        print(f\"Invalid choice. Please select a valid option (1/2/3/4)\")\n",
    "\n"
   ]
  },
  {
   "cell_type": "code",
   "execution_count": 2,
   "metadata": {},
   "outputs": [
    {
     "name": "stdout",
     "output_type": "stream",
     "text": [
      "The string is palindrome\n"
     ]
    }
   ],
   "source": [
    "#Q.16\n",
    "def is_palinrome(user_input):\n",
    "    cleaned_string= user_input.replace(\" \",\"\").lower()\n",
    "    if cleaned_string==cleaned_string[::-1]:\n",
    "        return True\n",
    "    else:\n",
    "        return False\n",
    "    \n",
    "\n",
    "user_input=input()\n",
    "if is_palinrome:\n",
    "    print('The string is palindrome')\n",
    "else:\n",
    "    print('The string is not palindrome')"
   ]
  },
  {
   "cell_type": "code",
   "execution_count": 6,
   "metadata": {},
   "outputs": [
    {
     "name": "stdout",
     "output_type": "stream",
     "text": [
      "The average (excluding the smallest and largest values) is: 10.00\n"
     ]
    }
   ],
   "source": [
    "#.17\n",
    "numberzz=(input(\"enter no.\"))\n",
    "numberzz=list(map(float,numberzz.split()))\n",
    "if len(numberzz)<3:\n",
    "    print(\"You need at least 3 numbers to calculate an average.\")\n",
    "else:\n",
    "    numberzz.remove(min(numberzz))\n",
    "    numberzz.remove(max(numberzz))\n",
    "    average=sum(numberzz)/len(numberzz)\n",
    "    print(f\"The average (excluding the smallest and largest values) is: {average:.2f}\")"
   ]
  },
  {
   "cell_type": "code",
   "execution_count": 5,
   "metadata": {},
   "outputs": [
    {
     "name": "stdout",
     "output_type": "stream",
     "text": [
      "25.0 degrees Celsius is equal to 77.0 degrees Fahrenheit.\n"
     ]
    }
   ],
   "source": [
    "#Q.18\n",
    "celsius = float(input(\"Enter the temperature in Celsius: \"))\n",
    "fahrenheit = (celsius * 9/5) + 32\n",
    "print(f\"{celsius} degrees Celsius is equal to {fahrenheit} degrees Fahrenheit.\")\n",
    "\n"
   ]
  },
  {
   "cell_type": "code",
   "execution_count": 6,
   "metadata": {},
   "outputs": [
    {
     "name": "stdout",
     "output_type": "stream",
     "text": [
      "3\n"
     ]
    }
   ],
   "source": [
    "#Q.19\n",
    "first_num=int(input())\n",
    "operator=input()\n",
    "second_num=int(input())\n",
    "\n",
    "first_num=int(first_num)\n",
    "second_num=int(second_num)\n",
    "\n",
    "if operator=='+':\n",
    "    print(first_num+second_num)\n",
    "elif operator=='-':\n",
    "    print(first_num-second_num)\n",
    "elif operator=='/':\n",
    "    print(first_num/second_num)\n",
    "elif operator=='%':\n",
    "    print(first_num%second_num)\n",
    "elif operator=='*':\n",
    "    print(first_num*second_num)\n",
    "else:\n",
    "    print('enter write operator ! invalid operator or number')\n",
    "\n"
   ]
  },
  {
   "cell_type": "code",
   "execution_count": 2,
   "metadata": {},
   "outputs": [
    {
     "name": "stdout",
     "output_type": "stream",
     "text": [
      "Roots of the cubic equation:\n",
      "Root 1: (0.3660254037844387+0.7886751345948129j)\n"
     ]
    }
   ],
   "source": [
    "#Q.20\n",
    "import cmath\n",
    "def solve_cubic(a, b, c, d):\n",
    "    p = (3 * a * c - b**2) / (3 * a**2)\n",
    "    q = (2 * b**3 - 9 * a * b * c + 27 * a**2 * d) / (27 * a**3)\n",
    "    delta = (q / 2)**2 + (p / 3)**3\n",
    "\n",
    "    if delta > 0:\n",
    "        u1 = (-q / 2 + cmath.sqrt(delta))**(1/3)\n",
    "        u2 = (-q / 2 - cmath.sqrt(delta))**(1/3)\n",
    "        real_root = -b / (3 * a) + u1 + u2\n",
    "        return [real_root]\n",
    "\n",
    "    elif delta == 0:\n",
    "        u = (-q / 2)**(1/3)\n",
    "        real_root = -b / (3 * a) + 2 * u\n",
    "        imaginary_root = u - u\n",
    "        return [real_root, imaginary_root, imaginary_root]\n",
    "\n",
    "    else:\n",
    "        phi = cmath.acos(-(q / 2) / cmath.sqrt(-(p / 3)**3))\n",
    "        u1 = 2 * cmath.sqrt(-p / 3) * cmath.cos(phi / 3)\n",
    "        u2 = 2 * cmath.sqrt(-p / 3) * cmath.cos((phi + 2 * cmath.pi) / 3)\n",
    "        u3 = 2 * cmath.sqrt(-p / 3) * cmath.cos((phi + 4 * cmath.pi) / 3)\n",
    "        real_root1 = -b / (3 * a) + u1\n",
    "        real_root2 = -b / (3 * a) + u2\n",
    "        real_root3 = -b / (3 * a) + u3\n",
    "        return [real_root1, real_root2, real_root3]\n",
    "\n",
    "a = float(input(\"Enter coefficient a: \"))\n",
    "b = float(input(\"Enter coefficient b: \"))\n",
    "c = float(input(\"Enter coefficient c: \"))\n",
    "d = float(input(\"Enter coefficient d: \"))\n",
    "\n",
    "roots = solve_cubic(a, b, c, d)\n",
    "\n",
    "print(\"Roots of the cubic equation:\")\n",
    "for i, root in enumerate(roots):\n",
    "    print(f\"Root {i + 1}: {root}\")\n"
   ]
  },
  {
   "cell_type": "code",
   "execution_count": null,
   "metadata": {},
   "outputs": [],
   "source": [
    "#Advanced Level:"
   ]
  },
  {
   "cell_type": "code",
   "execution_count": null,
   "metadata": {},
   "outputs": [],
   "source": [
    "#.21\n",
    "income=int(input())\n",
    "tax_br=[(10000,0.10)\n",
    "        (20000,0.12)\n",
    "        (30000,0.22)\n",
    "        (40000,0.24)\n",
    "        (50000,0.32)\n",
    "        (60000,0.35)\n",
    "]\n"
   ]
  },
  {
   "cell_type": "code",
   "execution_count": 2,
   "metadata": {},
   "outputs": [
    {
     "name": "stdout",
     "output_type": "stream",
     "text": [
      "computer choice:rock\n",
      "its a tie\n"
     ]
    }
   ],
   "source": [
    "#Q.22\n",
    "import random\n",
    "choices= [\"rock\",\"paper\",\"scissors\"]\n",
    "user_choice= input(\"Enter your choice\".lower())\n",
    "computer_choice=random.choice(choices)\n",
    "print(f\"computer choice:{computer_choice}\")\n",
    "if user_choice in choices:\n",
    "    if user_choice==computer_choice:\n",
    "        print(\"its a tie\")\n",
    "    elif((user_choice==\"rock\" and computer_choice==\"scissors\")\n",
    "         or (user_choice==\"scissors\" and computer_choice==\"paper\")\n",
    "         or (user_choice==\"paper\" and computer_choice == \"rock\")):\n",
    "        print(\"you win\")\n",
    "    else:\n",
    "        [print(\"computer win\")]\n",
    "else:\n",
    "    print(\"invalid choice\")\n"
   ]
  },
  {
   "cell_type": "code",
   "execution_count": 4,
   "metadata": {},
   "outputs": [
    {
     "name": "stdout",
     "output_type": "stream",
     "text": [
      "generate_password oMXyFSWdGD\n"
     ]
    }
   ],
   "source": [
    "#Q.23\n",
    "import random\n",
    "import string\n",
    "def generate_password(length,complexity):\n",
    "    if complexity==\"low\":\n",
    "        character=string.ascii_letters+string.digits\n",
    "    elif complexity==\"medium\":\n",
    "        character=string.ascii_letters+string.digits+string.punctuation\n",
    "    elif complexity=='high':\n",
    "        character=string.ascii_letters+string.digits+string.punctuation+string.ascii_uppercase\n",
    "    password=''.join(random.choice(character) for _ in range(length))\n",
    "    return password\n",
    "length=int(input(\"Enter the length of the password:\"))\n",
    "complexity=input(\"Enter the complexity (low, medium, or high):\")\n",
    "password=generate_password(length,complexity)\n",
    "print(f\"generate_password {password}\")"
   ]
  },
  {
   "cell_type": "code",
   "execution_count": 7,
   "metadata": {},
   "outputs": [
    {
     "name": "stdout",
     "output_type": "stream",
     "text": [
      "Welcome to the Text Adventure Game!\n",
      "You find yourself in a dark forest.\n",
      "You see two paths in front of you.\n",
      "1. Take the left path.\n",
      "2. Take the right path.\n",
      "You chose the right path and come across a dangerous troll.\n",
      "The troll captures you, and your adventure ends here.\n",
      "Thanks for playing!\n"
     ]
    }
   ],
   "source": [
    "#Q.24\n",
    "print(\"Welcome to the Text Adventure Game!\")\n",
    "print(\"You find yourself in a dark forest.\")\n",
    "print(\"You see two paths in front of you.\")\n",
    "print(\"1. Take the left path.\")\n",
    "print(\"2. Take the right path.\")\n",
    "choice = input(\"Enter your choice (1 or 2): \")\n",
    "if choice == \"1\":\n",
    "    print(\"You chose the left path and encounter a friendly forest creature.\")\n",
    "    print(\"It guides you safely out of the forest. You win!\")\n",
    "elif choice == \"2\":\n",
    "    print(\"You chose the right path and come across a dangerous troll.\")\n",
    "    print(\"The troll captures you, and your adventure ends here.\")\n",
    "else:\n",
    "    print(\"Invalid choice. Your adventure ends here.\")\n",
    "\n",
    "print(\"Thanks for playing!\")\n"
   ]
  },
  {
   "cell_type": "code",
   "execution_count": 30,
   "metadata": {},
   "outputs": [
    {
     "name": "stdout",
     "output_type": "stream",
     "text": [
      "The solution for 'x' is: -1.0\n"
     ]
    }
   ],
   "source": [
    "#Q.25\n",
    "a = float(input(\"Enter the coefficient 'a': \"))\n",
    "b = float(input(\"Enter the coefficient 'b': \"))\n",
    "if a == 0:\n",
    "    if b == 0:\n",
    "        print(\"Infinite solutions. 'x' can be any value.\")\n",
    "    else:\n",
    "        print(\"No solution. The equation is inconsistent.\")\n",
    "else:\n",
    "    x = -b / a\n",
    "    print(f\"The solution for 'x' is: {x}\")\n"
   ]
  },
  {
   "cell_type": "code",
   "execution_count": 11,
   "metadata": {},
   "outputs": [
    {
     "name": "stdout",
     "output_type": "stream",
     "text": [
      "What is the capital of France?\n",
      "A) Paris\n",
      "B) London\n",
      "C) Rome\n",
      "D) Berlin\n",
      "correct\n",
      "Which planet is known as the Red Planet?\n",
      "A) Earth\n",
      "B) Jupiter\n",
      "C) Mars\n",
      "D) Venus\n",
      "correct\n",
      "What is 2 + 2?\n",
      "A) 3\n",
      "B) 4\n",
      "C) 5\n",
      "D) 6\n",
      "correct\n",
      "quiz completed! 3/3\n"
     ]
    }
   ],
   "source": [
    "#Q.26\n",
    "quiz_questions = [\n",
    "    {\"question\": \"What is the capital of France?\",\n",
    "        \"options\": [\"A) Paris\", \"B) London\", \"C) Rome\", \"D) Berlin\"],\n",
    "        \"correct_answer\": \"A\",},\n",
    "    {\"question\": \"Which planet is known as the Red Planet?\",\n",
    "        \"options\": [\"A) Earth\", \"B) Jupiter\", \"C) Mars\", \"D) Venus\"],\n",
    "        \"correct_answer\": \"C\",},\n",
    "    {\"question\": \"What is 2 + 2?\",\n",
    "        \"options\": [\"A) 3\", \"B) 4\", \"C) 5\", \"D) 6\"],\n",
    "        \"correct_answer\": \"B\",},\n",
    "]\n",
    "score=0\n",
    "for question_data in quiz_questions:\n",
    "    print(question_data[\"question\"])\n",
    "    for option in question_data[\"options\"]:\n",
    "        print(option)\n",
    "    user_ans=input(\"enter your answer\")\n",
    "    if user_ans==question_data[\"correct_answer\"]:\n",
    "        print(\"correct\")\n",
    "        score +=1\n",
    "    else:\n",
    "        print(f\"wrong answer ! correct answer is {question_data['correct_answer']}\")\n",
    "\n",
    "print(f\"quiz completed! {score}/{len(quiz_questions)}\")"
   ]
  },
  {
   "cell_type": "code",
   "execution_count": 10,
   "metadata": {},
   "outputs": [
    {
     "name": "stdout",
     "output_type": "stream",
     "text": [
      "The year is prime year\n"
     ]
    }
   ],
   "source": [
    "#Q.27\n",
    "year=int(input('enter year'))\n",
    "if year<2:\n",
    "    print(\"The year is not prime\")\n",
    "else:\n",
    "    is_prime=True\n",
    "    for i in range(2,int(year**0.5)+1):\n",
    "        if year % i==0:\n",
    "            is_prime=False\n",
    "            break\n",
    "\n",
    "    if is_prime:\n",
    "        print(\"The year is prime year\")\n",
    "    else:\n",
    "        print(\"The  year is not prime\")"
   ]
  },
  {
   "cell_type": "code",
   "execution_count": 14,
   "metadata": {},
   "outputs": [
    {
     "name": "stdout",
     "output_type": "stream",
     "text": [
      "The numbers in ascending order are: 20.0, 50.0, 60.0\n"
     ]
    }
   ],
   "source": [
    "#Q.28\n",
    "num1 = float(input(\"Enter the first number: \"))\n",
    "num2 = float(input(\"Enter the second number: \"))\n",
    "num3 = float(input(\"Enter the third number: \"))\n",
    "\n",
    "\n",
    "if num1 <= num2 <= num3:\n",
    "    smallest, middle, largest = num1, num2, num3\n",
    "elif num1 <= num3 <= num2:\n",
    "    smallest, middle, largest = num1, num3, num2\n",
    "elif num2 <= num1 <= num3:\n",
    "    smallest, middle, largest = num2, num1, num3\n",
    "elif num2 <= num3 <= num1:\n",
    "    smallest, middle, largest = num2, num3, num1\n",
    "elif num3 <= num1 <= num2:\n",
    "    smallest, middle, largest = num3, num1, num2\n",
    "else:\n",
    "    smallest, middle, largest = num3, num2, num1\n",
    "print(f\"The numbers in ascending order are: {smallest}, {middle}, {largest}\")\n"
   ]
  },
  {
   "cell_type": "code",
   "execution_count": 6,
   "metadata": {},
   "outputs": [
    {
     "name": "stdout",
     "output_type": "stream",
     "text": [
      "Maximum iterations reached. No root found.\n"
     ]
    }
   ],
   "source": [
    "#Q.29\n",
    "def quartic(x, a, b, c, d, e):\n",
    "    return a * x**4 + b * x**3 + c * x**2 + d * x + e\n",
    "\n",
    "def quartic_derivative(x, a, b, c, d):\n",
    "    return 4 * a * x**3 + 3 * b * x**2 + 2 * c * x + d\n",
    "\n",
    "\n",
    "a = float(input(\"Enter coefficient a: \"))\n",
    "b = float(input(\"Enter coefficient b: \"))\n",
    "c = float(input(\"Enter coefficient c: \"))\n",
    "d = float(input(\"Enter coefficient d: \"))\n",
    "e = float(input(\"Enter coefficient e: \"))\n",
    "\n",
    "\n",
    "x0 = float(input(\"Enter an initial guess for the root: \"))\n",
    "\n",
    "\n",
    "tolerance = 1e-6\n",
    "max_iterations = 100\n",
    "\n",
    "\n",
    "x = x0\n",
    "iterations = 0\n",
    "\n",
    "while iterations < max_iterations:\n",
    "    f_x = quartic(x, a, b, c, d, e)\n",
    "    f_prime_x = quartic_derivative(x, a, b, c, d)\n",
    "\n",
    "    x = x - f_x / f_prime_x\n",
    "\n",
    "    if abs(f_x) < tolerance:\n",
    "        break\n",
    "\n",
    "    iterations += 1\n",
    "\n",
    "# Display the result\n",
    "if iterations < max_iterations:\n",
    "    print(f\"Approximate root found: {x:.6f}\")\n",
    "else:\n",
    "    print(\"Maximum iterations reached. No root found.\")\n"
   ]
  },
  {
   "cell_type": "code",
   "execution_count": 1,
   "metadata": {},
   "outputs": [
    {
     "name": "stdout",
     "output_type": "stream",
     "text": [
      "you are underweight\n"
     ]
    }
   ],
   "source": [
    "#Q.30\n",
    "height=float(input())\n",
    "weight=float(input())\n",
    "bmi=weight/(height**2)\n",
    "if bmi<18.5:\n",
    "    category='underweight'\n",
    "    print(f'you are {category}')\n",
    "elif 18.5<=bmi<24.9:\n",
    "    category='normal'\n",
    "    print(f'you are {category}')\n",
    "elif 24.9<=bmi<29.9:\n",
    "    category='overweight'\n",
    "    print(f'you are {category}')\n",
    "else:\n",
    "    print('obesty')"
   ]
  },
  {
   "cell_type": "code",
   "execution_count": 3,
   "metadata": {},
   "outputs": [
    {
     "name": "stdout",
     "output_type": "stream",
     "text": [
      "password is not valid\n"
     ]
    }
   ],
   "source": [
    "#Q.31\n",
    "import re\n",
    "def validate_password(password):\n",
    "    pass_length= len(password)<8\n",
    "    uppercse_cond=any(char.isupper() for char in password)\n",
    "    lower_cond=any(char.islower() for char in password)\n",
    "    digits_cond=any(char.isdigit() for char in password)\n",
    "    special_char=re.search(r'!@#\\$%^&*()_+' , password)\n",
    "\n",
    "    if  pass_length and uppercse_cond and lower_cond and digits_cond and special_char:\n",
    "        return True\n",
    "    else:\n",
    "        return False\n",
    "    \n",
    "password=input()\n",
    "if validate_password(password):\n",
    "    print(\"password is valid\")\n",
    "else:\n",
    "    print(\"password is not valid\")"
   ]
  },
  {
   "cell_type": "code",
   "execution_count": null,
   "metadata": {},
   "outputs": [],
   "source": [
    "#Q.32"
   ]
  },
  {
   "cell_type": "code",
   "execution_count": 9,
   "metadata": {},
   "outputs": [
    {
     "name": "stdout",
     "output_type": "stream",
     "text": [
      "The Greatest Common Divisor (GCD) of 2 and 3 is 1.\n"
     ]
    }
   ],
   "source": [
    "#Q.33\n",
    "def euclidean_gcd(a, b):\n",
    "    while b:\n",
    "        a, b = b, a % b\n",
    "    return a\n",
    "\n",
    "# Input two numbers from the user\n",
    "num1 = int(input(\"Enter the first number: \"))\n",
    "num2 = int(input(\"Enter the second number: \"))\n",
    "\n",
    "# Calculate and display the GCD\n",
    "gcd = euclidean_gcd(num1, num2)\n",
    "print(f\"The Greatest Common Divisor (GCD) of {num1} and {num2} is {gcd}.\")\n"
   ]
  },
  {
   "cell_type": "code",
   "execution_count": null,
   "metadata": {},
   "outputs": [],
   "source": [
    "#Q.34\n"
   ]
  },
  {
   "cell_type": "code",
   "execution_count": 10,
   "metadata": {},
   "outputs": [
    {
     "name": "stdout",
     "output_type": "stream",
     "text": [
      "computer choice : tack\n",
      "invalid choice\n"
     ]
    }
   ],
   "source": [
    "#Q.35\n",
    "import random\n",
    "user_input=input()\n",
    "game_part=['tick','tack','toe']\n",
    "computer_choice=random.choice(game_part)\n",
    "print(f\"computer choice : {computer_choice}\" )\n",
    "if user_input==game_part:\n",
    "    if computer_choice==user_input:\n",
    "        print('itd a tie')\n",
    "    elif (user_input=='tick' and computer_choice=='tack'\n",
    "          or user_input=='tack' and computer_choice=='toe'\n",
    "          or user_input=='toe' and computer_choice=='tick'):\n",
    "        print(f'you win')\n",
    "    else:\n",
    "        print('computer win')\n",
    "else:\n",
    "    print(\"invalid choice\")"
   ]
  },
  {
   "cell_type": "code",
   "execution_count": 31,
   "metadata": {},
   "outputs": [
    {
     "name": "stdout",
     "output_type": "stream",
     "text": [
      "fibonacci_sequence\n",
      "0 1 1 2 3 5 8 13 21 34 "
     ]
    }
   ],
   "source": [
    "#Q.36\n",
    "fib_num=int(input(\"enter fibo number\"))\n",
    "fibo=[0,1]\n",
    "for i in range(2,fib_num):\n",
    "    next_term= fibo[i-1]+fibo[i-2]\n",
    "    fibo.append(next_term)\n",
    "\n",
    "print(\"fibonacci_sequence\")\n",
    "for term in fibo:\n",
    "    print(term ,end=\" \")\n"
   ]
  },
  {
   "cell_type": "code",
   "execution_count": 3,
   "metadata": {},
   "outputs": [
    {
     "name": "stdout",
     "output_type": "stream",
     "text": [
      "The 3th term is : 2\n"
     ]
    }
   ],
   "source": [
    "#Q.37\n",
    "n=int(input())\n",
    "fib_num={0:0, 1:1}\n",
    "for i in range(2,n+1):\n",
    "    if i not in fib_num:\n",
    "        fib_num[i]=fib_num[i-1]+fib_num[i-2]\n",
    "nth =fib_num[n]\n",
    "print(f\"The {n}th term is : {nth}\")"
   ]
  },
  {
   "cell_type": "code",
   "execution_count": 3,
   "metadata": {},
   "outputs": [
    {
     "name": "stdout",
     "output_type": "stream",
     "text": [
      "Calendar for 2023-12\n",
      "Mo Tu We Th Fr Sa Su\n",
      "     1   2   3   4   5   6  \n",
      " 7   8   9  10  11  12  13  \n",
      "14  15  16  17  18  19  20  \n",
      "21  22  23  24  25  26  27  \n",
      "28  29  30  31  \n"
     ]
    }
   ],
   "source": [
    "#Q.38\n",
    "# Input the year and month\n",
    "year = int(input(\"Enter the year (e.g., 2023): \"))\n",
    "month = int(input(\"Enter the month (1-12): \"))\n",
    "\n",
    "# Determine the number of days in the month\n",
    "if month == 2:\n",
    "    if (year % 4 == 0 and year % 100 != 0) or (year % 400 == 0):\n",
    "        days_in_month = 29  # February in a leap year\n",
    "    else:\n",
    "        days_in_month = 28  # February in a non-leap year\n",
    "elif month in [4, 6, 9, 11]:\n",
    "    days_in_month = 30  # April, June, September, November\n",
    "else:\n",
    "    days_in_month = 31  # All other months\n",
    "\n",
    "# Display the calendar header\n",
    "print(f\"Calendar for {year}-{month}\")\n",
    "print(\"Mo Tu We Th Fr Sa Su\")\n",
    "\n",
    "# Initialize variables for day and weekday\n",
    "day = 1\n",
    "weekday = 0  # 0 represents Monday\n",
    "\n",
    "# Determine the starting weekday for the first day of the month\n",
    "while weekday < (day % 7):\n",
    "    print(\"   \", end=\" \")  # Print spaces for days before the 1st day\n",
    "    weekday += 1\n",
    "\n",
    "# Display the days of the month\n",
    "while day <= days_in_month:\n",
    "    print(f\"{day:2d} \", end=\" \")\n",
    "    day += 1\n",
    "    weekday += 1\n",
    "\n",
    "    # Start a new line for the next week\n",
    "    if weekday % 7 == 0:\n",
    "        print()  # Move to the next line\n",
    "\n",
    "print()  # Print a newline at the end\n"
   ]
  },
  {
   "cell_type": "code",
   "execution_count": null,
   "metadata": {},
   "outputs": [],
   "source": [
    "#Q.39\n"
   ]
  },
  {
   "cell_type": "code",
   "execution_count": 2,
   "metadata": {},
   "outputs": [
    {
     "name": "stdout",
     "output_type": "stream",
     "text": [
      "Prime factors of the number: [2, 2, 2, 2, 3]\n"
     ]
    }
   ],
   "source": [
    "#Q.40\n",
    "num=int(input(\"enter number\"))\n",
    "prime_factor=[]\n",
    "divisior=2\n",
    "while num>1:\n",
    "    if num %divisior==0:\n",
    "        prime_factor.append(divisior)\n",
    "        num//=divisior\n",
    "    else:\n",
    "        divisior+=1\n",
    "\n",
    "print(f'Prime factors of the number: {prime_factor}')\n",
    "    "
   ]
  }
 ],
 "metadata": {
  "kernelspec": {
   "display_name": "Python 3",
   "language": "python",
   "name": "python3"
  },
  "language_info": {
   "codemirror_mode": {
    "name": "ipython",
    "version": 3
   },
   "file_extension": ".py",
   "mimetype": "text/x-python",
   "name": "python",
   "nbconvert_exporter": "python",
   "pygments_lexer": "ipython3",
   "version": "3.11.6"
  },
  "orig_nbformat": 4
 },
 "nbformat": 4,
 "nbformat_minor": 2
}
